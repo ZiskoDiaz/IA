{
  "nbformat": 4,
  "nbformat_minor": 0,
  "metadata": {
    "colab": {
      "name": "primera_redneuronal.ipynb",
      "provenance": [],
      "authorship_tag": "ABX9TyPI6Cx2hs+MQ8LUTuJ3WYSN",
      "include_colab_link": true
    },
    "kernelspec": {
      "name": "python3",
      "display_name": "Python 3"
    },
    "language_info": {
      "name": "python"
    }
  },
  "cells": [
    {
      "cell_type": "markdown",
      "metadata": {
        "id": "view-in-github",
        "colab_type": "text"
      },
      "source": [
        "<a href=\"https://colab.research.google.com/github/ZiskoDiaz/IA/blob/main/primera_redneuronal.ipynb\" target=\"_parent\"><img src=\"https://colab.research.google.com/assets/colab-badge.svg\" alt=\"Open In Colab\"/></a>"
      ]
    },
    {
      "cell_type": "code",
      "metadata": {
        "id": "GC-8B55Txjl3"
      },
      "source": [
        "import tensorflow\n",
        "import numpy"
      ],
      "execution_count": 1,
      "outputs": []
    },
    {
      "cell_type": "code",
      "metadata": {
        "id": "030F9chdx7PL"
      },
      "source": [
        "celsius = numpy.array([-40, -10, 0, 8, 15, 22,38], dtype=float)\n",
        "fahrenheit = numpy.array([-40, 14, 32, 46, 59, 72, 100], dtype=float)"
      ],
      "execution_count": 2,
      "outputs": []
    },
    {
      "cell_type": "code",
      "metadata": {
        "id": "zkSUSLo7yjVP"
      },
      "source": [
        "capa = tensorflow.keras.layers.Dense(units=1, input_shape=[1])\n",
        "modelo = tensorflow.keras.Sequential([capa])"
      ],
      "execution_count": 3,
      "outputs": []
    },
    {
      "cell_type": "code",
      "metadata": {
        "id": "WN2Asfu1y5H8"
      },
      "source": [
        "modelo.compile(\n",
        "    optimizer = tensorflow.keras.optimizers.Adam(0.111),\n",
        "    loss='mean_squared_error'\n",
        ")"
      ],
      "execution_count": 27,
      "outputs": []
    },
    {
      "cell_type": "code",
      "metadata": {
        "colab": {
          "base_uri": "https://localhost:8080/"
        },
        "id": "zAuewxKLzLDY",
        "outputId": "79c8f13f-741d-4054-82d3-b9318b35e8f8"
      },
      "source": [
        "print(\"Jarvis esta entrenando ....\")\n",
        "historial = modelo.fit(celsius, fahrenheit, epochs=10000, verbose=False)\n",
        "print(\"Jarvis termino su entrenamiento\")"
      ],
      "execution_count": 32,
      "outputs": [
        {
          "output_type": "stream",
          "text": [
            "Jarvis esta entrenando ....\n",
            "Jarvis termino su entrenamiento\n"
          ],
          "name": "stdout"
        }
      ]
    },
    {
      "cell_type": "code",
      "metadata": {
        "colab": {
          "base_uri": "https://localhost:8080/",
          "height": 296
        },
        "id": "qEwN3mO1zgKL",
        "outputId": "9ef3c8ca-01d2-4ac1-8d82-95952b5d66a0"
      },
      "source": [
        "import matplotlib.pyplot as plt\n",
        "plt.xlabel(\"# Vueltas\")\n",
        "plt.ylabel(\"Magnitud de perdida\")\n",
        "plt.plot(historial.history[\"loss\"])"
      ],
      "execution_count": 33,
      "outputs": [
        {
          "output_type": "execute_result",
          "data": {
            "text/plain": [
              "[<matplotlib.lines.Line2D at 0x7f547d3916d0>]"
            ]
          },
          "metadata": {
            "tags": []
          },
          "execution_count": 33
        },
        {
          "output_type": "display_data",
          "data": {
            "image/png": "[encoded data removed]",
            "text/plain": [
              "<Figure size 432x288 with 1 Axes>"
            ]
          },
          "metadata": {
            "tags": [],
            "needs_background": "light"
          }
        }
      ]
    },
    {
      "cell_type": "code",
      "metadata": {
        "colab": {
          "base_uri": "https://localhost:8080/"
        },
        "id": "WfMgdVYX0EJ7",
        "outputId": "7c36e657-be55-48f2-e5eb-3343521b8f69"
      },
      "source": [
        "print(\"Jarvis hara una prediccion\")\n",
        "resultado = modelo.predict([100.0])\n",
        "print(\"El resultado es \" + str(resultado) + \" grados Fahrenheit !!\")"
      ],
      "execution_count": 34,
      "outputs": [
        {
          "output_type": "stream",
          "text": [
            "Jarvis hara una prediccion\n",
            "El resultado es [[211.7446]] grados Fahrenheit !!\n"
          ],
          "name": "stdout"
        }
      ]
    },
    {
      "cell_type": "code",
      "metadata": {
        "colab": {
          "base_uri": "https://localhost:8080/"
        },
        "id": "MH9nnJ9U0ruH",
        "outputId": "2423388e-b50c-4426-c7f7-33e4422f16eb"
      },
      "source": [
        "print(\"Variables internas del modelo neuronal\")\n",
        "print(capa.get_weights())"
      ],
      "execution_count": 35,
      "outputs": [
        {
          "output_type": "stream",
          "text": [
            "Variables internas del modelo neuronal\n",
            "[array([[1.797921]], dtype=float32), array([31.952496], dtype=float32)]\n"
          ],
          "name": "stdout"
        }
      ]
    }
  ]
}